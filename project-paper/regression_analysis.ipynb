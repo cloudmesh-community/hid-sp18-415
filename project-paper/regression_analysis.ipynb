{
 "cells": [
  {
   "cell_type": "code",
   "execution_count": 3,
   "metadata": {},
   "outputs": [
    {
     "data": {
      "text/html": [
       "<div>\n",
       "<style>\n",
       "    .dataframe thead tr:only-child th {\n",
       "        text-align: right;\n",
       "    }\n",
       "\n",
       "    .dataframe thead th {\n",
       "        text-align: left;\n",
       "    }\n",
       "\n",
       "    .dataframe tbody tr th {\n",
       "        vertical-align: top;\n",
       "    }\n",
       "</style>\n",
       "<table border=\"1\" class=\"dataframe\">\n",
       "  <thead>\n",
       "    <tr style=\"text-align: right;\">\n",
       "      <th></th>\n",
       "      <th>engine_size</th>\n",
       "      <th>hwy_mpg</th>\n",
       "    </tr>\n",
       "  </thead>\n",
       "  <tbody>\n",
       "    <tr>\n",
       "      <th>count</th>\n",
       "      <td>159.000000</td>\n",
       "      <td>159.000000</td>\n",
       "    </tr>\n",
       "    <tr>\n",
       "      <th>mean</th>\n",
       "      <td>123.119497</td>\n",
       "      <td>31.062893</td>\n",
       "    </tr>\n",
       "    <tr>\n",
       "      <th>std</th>\n",
       "      <td>39.642607</td>\n",
       "      <td>6.826684</td>\n",
       "    </tr>\n",
       "    <tr>\n",
       "      <th>min</th>\n",
       "      <td>61.000000</td>\n",
       "      <td>16.000000</td>\n",
       "    </tr>\n",
       "    <tr>\n",
       "      <th>25%</th>\n",
       "      <td>97.000000</td>\n",
       "      <td>25.000000</td>\n",
       "    </tr>\n",
       "    <tr>\n",
       "      <th>50%</th>\n",
       "      <td>110.000000</td>\n",
       "      <td>31.000000</td>\n",
       "    </tr>\n",
       "    <tr>\n",
       "      <th>75%</th>\n",
       "      <td>140.000000</td>\n",
       "      <td>36.000000</td>\n",
       "    </tr>\n",
       "    <tr>\n",
       "      <th>max</th>\n",
       "      <td>326.000000</td>\n",
       "      <td>54.000000</td>\n",
       "    </tr>\n",
       "  </tbody>\n",
       "</table>\n",
       "</div>"
      ],
      "text/plain": [
       "       engine_size     hwy_mpg\n",
       "count   159.000000  159.000000\n",
       "mean    123.119497   31.062893\n",
       "std      39.642607    6.826684\n",
       "min      61.000000   16.000000\n",
       "25%      97.000000   25.000000\n",
       "50%     110.000000   31.000000\n",
       "75%     140.000000   36.000000\n",
       "max     326.000000   54.000000"
      ]
     },
     "execution_count": 3,
     "metadata": {},
     "output_type": "execute_result"
    }
   ],
   "source": [
    "import pandas as pd\n",
    "import numpy as np\n",
    "import matplotlib.pyplot as plt\n",
    "import seaborn as sns\n",
    "from sklearn.model_selection import train_test_split\n",
    "from sklearn.linear_model import LinearRegression\n",
    "from sklearn.metrics import r2_score\n",
    "from sklearn.externals import joblib\n",
    "import requests\n",
    "\n",
    "sns.set()\n",
    "%matplotlib inline\n",
    "\n",
    "\n",
    "# fetch data\n",
    "df = pd.read_csv(\"https://docs.google.com/spreadsheets/d/e/2PACX-1vS37MqRL0SL1twLDjX5vFw-WqICPgBW0ev_4KMR2kzzcMAWkKNQo_wnbr_QqcXXuFgBXX8K-Amogx-9/pub?output=csv\")\n",
    "\n",
    "# split data set into training set and test-set\n",
    "\n",
    "train_set, test_set = train_test_split(df, test_size=0.2, random_state=42)\n",
    "\n",
    "df_copy = train_set.copy()\n",
    "\n",
    "df_copy.describe()\n",
    "\n",
    "\n",
    "\n"
   ]
  },
  {
   "cell_type": "code",
   "execution_count": 5,
   "metadata": {},
   "outputs": [
    {
     "data": {
      "text/plain": [
       "<matplotlib.axes._subplots.AxesSubplot at 0xfff8320>"
      ]
     },
     "execution_count": 5,
     "metadata": {},
     "output_type": "execute_result"
    },
    {
     "data": {
      "image/png": "[encoded data removed]",
      "text/plain": [
       "<matplotlib.figure.Figure at 0xffd9cc0>"
      ]
     },
     "metadata": {},
     "output_type": "display_data"
    }
   ],
   "source": [
    "# Scatter plot\n",
    "df_copy.plot.scatter(x='engine_size', y= 'hwy_mpg')"
   ]
  },
  {
   "cell_type": "code",
   "execution_count": null,
   "metadata": {
    "collapsed": true
   },
   "outputs": [],
   "source": []
  },
  {
   "cell_type": "code",
   "execution_count": 25,
   "metadata": {},
   "outputs": [
    {
     "data": {
      "text/plain": [
       "<matplotlib.axes._subplots.AxesSubplot at 0x10581c50>"
      ]
     },
     "execution_count": 25,
     "metadata": {},
     "output_type": "execute_result"
    },
    {
     "data": {
      "image/png": "[encoded data removed]",
      "text/plain": [
       "<matplotlib.figure.Figure at 0x105814a8>"
      ]
     },
     "metadata": {},
     "output_type": "display_data"
    }
   ],
   "source": [
    "# Regression Plot\n",
    "sns.regplot('engine_size', 'hwy_mpg', data = df_copy)"
   ]
  },
  {
   "cell_type": "code",
   "execution_count": null,
   "metadata": {
    "collapsed": true
   },
   "outputs": [],
   "source": [
    "# This still needs to be fixed\n",
    "test_set_full = test_set.copy()\n",
    "test_set = test_set.drop([\"hwy_mpg\"], axis=1)\n",
    "test_set.head()"
   ]
  },
  {
   "cell_type": "code",
   "execution_count": 45,
   "metadata": {},
   "outputs": [
    {
     "data": {
      "text/plain": [
       "183    29\n",
       "38     33\n",
       "24     38\n",
       "142    29\n",
       "141    31\n",
       "Name: hwy_mpg, dtype: int64"
      ]
     },
     "execution_count": 45,
     "metadata": {},
     "output_type": "execute_result"
    }
   ],
   "source": [
    "# Build model\n",
    "train_labels=df_copy['hwy_mpg']\n",
    "train_labels.head()\n"
   ]
  },
  {
   "cell_type": "code",
   "execution_count": null,
   "metadata": {
    "collapsed": true
   },
   "outputs": [],
   "source": [
    "# This still needs to be fixed\n",
    "train_set_full = train_set.copy()\n",
    "train_set = train_set.drop([\"hwy_mpg\"], axis=1)\n",
    "train_set.head()"
   ]
  },
  {
   "cell_type": "code",
   "execution_count": 10,
   "metadata": {},
   "outputs": [
    {
     "name": "stdout",
     "output_type": "stream",
     "text": [
      "('Coefficients: ', array([-0.11204949]))\n",
      "('Intercept: ', 44.858370288206217)\n"
     ]
    }
   ],
   "source": [
    "# linear Regression Equation\n",
    "lin_reg = LinearRegression()\n",
    "\n",
    "lin_reg.fit(train_set, train_labels)\n",
    "print(\"Coefficients: \", lin_reg.coef_)\n",
    "print(\"Intercept: \", lin_reg.intercept_)"
   ]
  },
  {
   "cell_type": "code",
   "execution_count": 34,
   "metadata": {},
   "outputs": [
    {
     "name": "stdout",
     "output_type": "stream",
     "text": [
      "[ 31.18833214  21.44002624  27.82684735  32.64497555  33.87751997\n",
      "  28.4991443   18.63878892  24.35331306  31.18833214  25.69790698\n",
      "  33.98956946  34.54981693  24.35331306  34.54981693  33.98956946\n",
      "  32.53292605  35.89441084  31.18833214  33.98956946  33.87751997\n",
      "  21.44002624  23.12076864  31.41243112  25.69790698  24.35331306\n",
      "  29.05939177  34.54981693  32.75702504  34.77391591  31.30038163\n",
      "  29.05939177  15.94960108  30.29193619  28.4991443   24.57741205\n",
      "  18.63878892  31.30038163  23.12076864  34.54981693  31.18833214]\n",
      "82     32\n",
      "15     22\n",
      "111    25\n",
      "177    34\n",
      "76     30\n",
      "163    30\n",
      "68     18\n",
      "67     25\n",
      "120    30\n",
      "173    24\n",
      "176    46\n",
      "148    32\n",
      "65     25\n",
      "30     38\n",
      "86     37\n",
      "85     30\n",
      "55     23\n",
      "60     42\n",
      "90     37\n",
      "159    29\n",
      "16     20\n",
      "124    25\n",
      "96     34\n",
      "172    24\n",
      "66     25\n",
      "189    28\n",
      "147    37\n",
      "9      29\n",
      "18     43\n",
      "128    28\n",
      "190    28\n",
      "45     19\n",
      "192    22\n",
      "164    30\n",
      "101    25\n",
      "69     18\n",
      "126    28\n",
      "123    25\n",
      "75     38\n",
      "78     32\n",
      "Name: hwy_mpg, dtype: int64\n"
     ]
    }
   ],
   "source": [
    "# Predicted values from test_set\n",
    "hwy_mpg_pred = lin_reg.predict(test_set)\n",
    "print(hwy_mpg_pred)\n",
    "print(test_set_full[\"hwy_mpg\"])"
   ]
  },
  {
   "cell_type": "code",
   "execution_count": 20,
   "metadata": {},
   "outputs": [
    {
     "data": {
      "text/plain": [
       "0.58483544173847346"
      ]
     },
     "execution_count": 20,
     "metadata": {},
     "output_type": "execute_result"
    }
   ],
   "source": [
    "# r square value\n",
    "lin_reg.score(test_set, test_set_full[\"hwy_mpg\"])"
   ]
  },
  {
   "cell_type": "code",
   "execution_count": 33,
   "metadata": {},
   "outputs": [
    {
     "data": {
      "text/plain": [
       "[<matplotlib.lines.Line2D at 0x10636390>]"
      ]
     },
     "execution_count": 33,
     "metadata": {},
     "output_type": "execute_result"
    },
    {
     "data": {
      "image/png": "[encoded data removed]",
      "text/plain": [
       "<matplotlib.figure.Figure at 0x121cad30>"
      ]
     },
     "metadata": {},
     "output_type": "display_data"
    }
   ],
   "source": [
    "# Scatter Plot and line plot for test_set and predicted hwy_mpg\n",
    "plt.scatter(test_set_full[\"engine_size\"], test_set_full[\"hwy_mpg\"], color='blue')\n",
    "plt.plot(test_set_full[\"engine_size\"], hwy_mpg_pred, color='red', linewidth=2)"
   ]
  },
  {
   "cell_type": "code",
   "execution_count": 15,
   "metadata": {},
   "outputs": [
    {
     "data": {
      "text/plain": [
       "['training_labels.pkl']"
      ]
     },
     "execution_count": 15,
     "metadata": {},
     "output_type": "execute_result"
    }
   ],
   "source": [
    "BASE_URL = \"http://localhost:5000\"\n",
    "\n",
    "joblib.dump(lin_reg, \"linear_regression_model.pkl\")\n",
    "\n",
    "joblib.dump(train_set, \"training_data.pkl\")\n",
    "joblib.dump(train_labels, \"training_labels.pkl\")"
   ]
  },
  {
   "cell_type": "code",
   "execution_count": null,
   "metadata": {
    "collapsed": true
   },
   "outputs": [],
   "source": []
  },
  {
   "cell_type": "code",
   "execution_count": null,
   "metadata": {
    "collapsed": true
   },
   "outputs": [],
   "source": []
  },
  {
   "cell_type": "code",
   "execution_count": null,
   "metadata": {
    "collapsed": true
   },
   "outputs": [],
   "source": []
  }
 ],
 "metadata": {
  "kernelspec": {
   "display_name": "Python 2",
   "language": "python",
   "name": "python2"
  },
  "language_info": {
   "codemirror_mode": {
    "name": "ipython",
    "version": 2
   },
   "file_extension": ".py",
   "mimetype": "text/x-python",
   "name": "python",
   "nbconvert_exporter": "python",
   "pygments_lexer": "ipython2",
   "version": "2.7.14"
  }
 },
 "nbformat": 4,
 "nbformat_minor": 2
}
